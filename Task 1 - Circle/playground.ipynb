{
 "cells": [
  {
   "cell_type": "code",
   "execution_count": 1,
   "id": "93392b50",
   "metadata": {},
   "outputs": [],
   "source": [
    "import cv2\n",
    "import numpy as np\n",
    "import matplotlib.pyplot as plt\n",
    "import pyeit.mesh as mesh\n",
    "from pyeit.eit.utils import eit_scan_lines"
   ]
  },
  {
   "cell_type": "code",
   "execution_count": 2,
   "id": "ec7b19c8",
   "metadata": {},
   "outputs": [],
   "source": [
    "N_ELECTRODES = 16\n",
    "IMAGE_PATH = '2cm_el1.jpg' # Change this to '1cm_el1.jpg' or '3cm_el1.jpg'\n",
    "THRESHOLD_VAL = 150 # IMPORTANT: Tune this value (0-255) for best results!"
   ]
  },
  {
   "cell_type": "code",
   "execution_count": 3,
   "id": "5cba7353",
   "metadata": {},
   "outputs": [],
   "source": [
    "def process_image_to_mask(image_path, blur_kernel_size=5, threshold_value=150):\n",
    "    \"\"\"\n",
    "    Loads an image, automatically crops to the circular tank, and creates a clean binary mask of the phantom.\n",
    "    \n",
    "    Args:\n",
    "        image_path (str): The file path to the ground truth JPG image.\n",
    "        blur_kernel_size (int): The size of the kernel for Gaussian blur to aid in circle detection.\n",
    "        threshold_value (int): The pixel intensity value (0-255) to separate the object from the background.\n",
    "\n",
    "    Returns:\n",
    "        numpy.ndarray: A 2D array representing the final binary mask (object is 255, background is 0).\n",
    "                       Returns None if a circle cannot be detected.\n",
    "    \"\"\"\n",
    "    img = cv2.imread(image_path)\n",
    "    if img is None:\n",
    "        print(f\"Error: Could not load image from {image_path}\")\n",
    "        return None\n",
    "\n",
    "    gray = cv2.cvtColor(img, cv2.COLOR_BGR2GRAY)\n",
    "    gray_blurred = cv2.medianBlur(gray, blur_kernel_size)\n",
    "    \n",
    "    detected_circles = cv2.HoughCircles(gray_blurred, \n",
    "                                        cv2.HOUGH_GRADIENT, 1, 2000, \n",
    "                                        param1=50, param2=30, \n",
    "                                        minRadius=100, maxRadius=400)\n",
    "\n",
    "    if detected_circles is not None:\n",
    "        detected_circles = np.uint16(np.around(detected_circles))\n",
    "        pt = detected_circles[0, 0]\n",
    "        a, b, r = pt[0], pt[1], pt[2]\n",
    "\n",
    "        circle_mask = np.zeros(gray.shape, dtype=np.uint8)\n",
    "        cv2.circle(circle_mask, (a, b), r, 255, -1)\n",
    "        masked_gray = cv2.bitwise_and(gray, gray, mask=circle_mask)\n",
    "    else:\n",
    "        print(\"Warning: No circle detected. Using the full image. Cropping is recommended.\")\n",
    "        masked_gray = gray\n",
    "\n",
    "    _, binary_mask = cv2.threshold(masked_gray, threshold_value, 255, cv2.THRESH_BINARY)\n",
    "\n",
    "    kernel = np.ones((5, 5), np.uint8)\n",
    "    binary_mask = cv2.morphologyEx(binary_mask, cv2.MORPH_OPEN, kernel)\n",
    "    binary_mask = cv2.morphologyEx(binary_mask, cv2.MORPH_CLOSE, kernel)\n",
    "\n",
    "    return binary_mask"
   ]
  },
  {
   "cell_type": "code",
   "execution_count": null,
   "id": "961a959a",
   "metadata": {},
   "outputs": [],
   "source": [
    "def create_ground_truth_vector(mesh_obj, binary_mask):\n",
    "    \"\"\"\n",
    "    Maps a 2D binary mask onto a 1D pyEIT mesh element vector.\n",
    "\n",
    "    Args:\n",
    "        mesh_obj (dict): The pyEIT mesh object.\n",
    "        binary_mask (numpy.ndarray): The 2D binary mask from process_image_to_mask.\n",
    "\n",
    "    Returns:\n",
    "        numpy.ndarray: A 1D vector where each element corresponds to a triangle in the mesh.\n",
    "                       Value is 1 for the object, 0 for the background.\n",
    "    \"\"\"\n",
    "    nodes = mesh_obj['node']\n",
    "    elements = mesh_obj['element']\n",
    "    h, w = binary_mask.shape\n",
    "    \n",
    "    pts = np.array(nodes)\n",
    "    pts[:, 0] = (pts[:, 0] + 1) * w / 2\n",
    "    pts[:, 1] = (pts[:, 1] + 1) * h / 2\n",
    "    \n",
    "    ground_truth_vector = np.zeros(len(elements))\n",
    "    for i, element in enumerate(elements):\n",
    "        p1, p2, p3 = pts[element[0]], pts[element[1]], pts[element[2]]\n",
    "        centroid_x = int((p1[0] + p2[0] + p3[0]) / 3)\n",
    "        centroid_y = int((p1[1] + p2[1] + p3[1]) / 3)\n",
    "        \n",
    "        if 0 <= centroid_y < h and 0 <= centroid_x < w:\n",
    "            if binary_mask[centroid_y, centroid_x] == 255:\n",
    "                ground_truth_vector[i] = 1.0\n",
    "\n",
    "    return ground_truth_vector"
   ]
  },
  {
   "cell_type": "code",
   "execution_count": null,
   "id": "66e02691",
   "metadata": {},
   "outputs": [],
   "source": []
  }
 ],
 "metadata": {
  "kernelspec": {
   "display_name": "SIBC",
   "language": "python",
   "name": "python3"
  },
  "language_info": {
   "codemirror_mode": {
    "name": "ipython",
    "version": 3
   },
   "file_extension": ".py",
   "mimetype": "text/x-python",
   "name": "python",
   "nbconvert_exporter": "python",
   "pygments_lexer": "ipython3",
   "version": "3.12.11"
  }
 },
 "nbformat": 4,
 "nbformat_minor": 5
}
